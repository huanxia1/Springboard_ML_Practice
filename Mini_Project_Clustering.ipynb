{
 "cells": [
  {
   "cell_type": "markdown",
   "metadata": {},
   "source": [
    "# Customer Segmentation using Clustering\n",
    "***\n",
    "This mini-project is based on [this blog post](http://blog.yhat.com/posts/customer-segmentation-using-python.html) by yhat. Please feel free to refer to the post for additional information, and solutions."
   ]
  },
  {
   "cell_type": "code",
   "execution_count": 1,
   "metadata": {},
   "outputs": [],
   "source": [
    "%matplotlib inline\n",
    "import pandas as pd\n",
    "import sklearn\n",
    "import matplotlib.pyplot as plt\n",
    "import seaborn as sns\n",
    "\n",
    "# Setup Seaborn\n",
    "sns.set_style(\"whitegrid\")\n",
    "sns.set_context(\"poster\")"
   ]
  },
  {
   "cell_type": "markdown",
   "metadata": {},
   "source": [
    "## Data\n",
    "\n",
    "The dataset contains information on marketing newsletters/e-mail campaigns (e-mail offers sent to customers) and transaction level data from customers. The transactional data shows which offer customers responded to, and what the customer ended up buying. The data is presented as an Excel workbook containing two worksheets. Each worksheet contains a different dataset."
   ]
  },
  {
   "cell_type": "code",
   "execution_count": 2,
   "metadata": {},
   "outputs": [
    {
     "name": "stderr",
     "output_type": "stream",
     "text": [
      "C:\\Users\\hxia\\AppData\\Local\\Continuum\\anaconda3\\lib\\site-packages\\pandas\\io\\excel.py:329: FutureWarning: The `sheetname` keyword is deprecated, use `sheet_name` instead\n",
      "  **kwds)\n"
     ]
    },
    {
     "data": {
      "text/html": [
       "<div>\n",
       "<style scoped>\n",
       "    .dataframe tbody tr th:only-of-type {\n",
       "        vertical-align: middle;\n",
       "    }\n",
       "\n",
       "    .dataframe tbody tr th {\n",
       "        vertical-align: top;\n",
       "    }\n",
       "\n",
       "    .dataframe thead th {\n",
       "        text-align: right;\n",
       "    }\n",
       "</style>\n",
       "<table border=\"1\" class=\"dataframe\">\n",
       "  <thead>\n",
       "    <tr style=\"text-align: right;\">\n",
       "      <th></th>\n",
       "      <th>offer_id</th>\n",
       "      <th>campaign</th>\n",
       "      <th>varietal</th>\n",
       "      <th>min_qty</th>\n",
       "      <th>discount</th>\n",
       "      <th>origin</th>\n",
       "      <th>past_peak</th>\n",
       "    </tr>\n",
       "  </thead>\n",
       "  <tbody>\n",
       "    <tr>\n",
       "      <th>0</th>\n",
       "      <td>1</td>\n",
       "      <td>January</td>\n",
       "      <td>Malbec</td>\n",
       "      <td>72</td>\n",
       "      <td>56</td>\n",
       "      <td>France</td>\n",
       "      <td>False</td>\n",
       "    </tr>\n",
       "    <tr>\n",
       "      <th>1</th>\n",
       "      <td>2</td>\n",
       "      <td>January</td>\n",
       "      <td>Pinot Noir</td>\n",
       "      <td>72</td>\n",
       "      <td>17</td>\n",
       "      <td>France</td>\n",
       "      <td>False</td>\n",
       "    </tr>\n",
       "    <tr>\n",
       "      <th>2</th>\n",
       "      <td>3</td>\n",
       "      <td>February</td>\n",
       "      <td>Espumante</td>\n",
       "      <td>144</td>\n",
       "      <td>32</td>\n",
       "      <td>Oregon</td>\n",
       "      <td>True</td>\n",
       "    </tr>\n",
       "    <tr>\n",
       "      <th>3</th>\n",
       "      <td>4</td>\n",
       "      <td>February</td>\n",
       "      <td>Champagne</td>\n",
       "      <td>72</td>\n",
       "      <td>48</td>\n",
       "      <td>France</td>\n",
       "      <td>True</td>\n",
       "    </tr>\n",
       "    <tr>\n",
       "      <th>4</th>\n",
       "      <td>5</td>\n",
       "      <td>February</td>\n",
       "      <td>Cabernet Sauvignon</td>\n",
       "      <td>144</td>\n",
       "      <td>44</td>\n",
       "      <td>New Zealand</td>\n",
       "      <td>True</td>\n",
       "    </tr>\n",
       "  </tbody>\n",
       "</table>\n",
       "</div>"
      ],
      "text/plain": [
       "   offer_id  campaign            varietal  min_qty  discount       origin  \\\n",
       "0         1   January              Malbec       72        56       France   \n",
       "1         2   January          Pinot Noir       72        17       France   \n",
       "2         3  February           Espumante      144        32       Oregon   \n",
       "3         4  February           Champagne       72        48       France   \n",
       "4         5  February  Cabernet Sauvignon      144        44  New Zealand   \n",
       "\n",
       "   past_peak  \n",
       "0      False  \n",
       "1      False  \n",
       "2       True  \n",
       "3       True  \n",
       "4       True  "
      ]
     },
     "execution_count": 2,
     "metadata": {},
     "output_type": "execute_result"
    }
   ],
   "source": [
    "df_offers = pd.read_excel(\"./WineKMC.xlsx\", sheetname=0)\n",
    "df_offers.columns = [\"offer_id\", \"campaign\", \"varietal\", \"min_qty\", \"discount\", \"origin\", \"past_peak\"]\n",
    "df_offers.head()"
   ]
  },
  {
   "cell_type": "markdown",
   "metadata": {},
   "source": [
    "We see that the first dataset contains information about each offer such as the month it is in effect and several attributes about the wine that the offer refers to: the variety, minimum quantity, discount, country of origin and whether or not it is past peak. The second dataset in the second worksheet contains transactional data -- which offer each customer responded to."
   ]
  },
  {
   "cell_type": "code",
   "execution_count": 3,
   "metadata": {},
   "outputs": [
    {
     "name": "stderr",
     "output_type": "stream",
     "text": [
      "C:\\Users\\hxia\\AppData\\Local\\Continuum\\anaconda3\\lib\\site-packages\\pandas\\io\\excel.py:329: FutureWarning: The `sheetname` keyword is deprecated, use `sheet_name` instead\n",
      "  **kwds)\n"
     ]
    },
    {
     "data": {
      "text/html": [
       "<div>\n",
       "<style scoped>\n",
       "    .dataframe tbody tr th:only-of-type {\n",
       "        vertical-align: middle;\n",
       "    }\n",
       "\n",
       "    .dataframe tbody tr th {\n",
       "        vertical-align: top;\n",
       "    }\n",
       "\n",
       "    .dataframe thead th {\n",
       "        text-align: right;\n",
       "    }\n",
       "</style>\n",
       "<table border=\"1\" class=\"dataframe\">\n",
       "  <thead>\n",
       "    <tr style=\"text-align: right;\">\n",
       "      <th></th>\n",
       "      <th>customer_name</th>\n",
       "      <th>offer_id</th>\n",
       "      <th>n</th>\n",
       "    </tr>\n",
       "  </thead>\n",
       "  <tbody>\n",
       "    <tr>\n",
       "      <th>0</th>\n",
       "      <td>Smith</td>\n",
       "      <td>2</td>\n",
       "      <td>1</td>\n",
       "    </tr>\n",
       "    <tr>\n",
       "      <th>1</th>\n",
       "      <td>Smith</td>\n",
       "      <td>24</td>\n",
       "      <td>1</td>\n",
       "    </tr>\n",
       "    <tr>\n",
       "      <th>2</th>\n",
       "      <td>Johnson</td>\n",
       "      <td>17</td>\n",
       "      <td>1</td>\n",
       "    </tr>\n",
       "    <tr>\n",
       "      <th>3</th>\n",
       "      <td>Johnson</td>\n",
       "      <td>24</td>\n",
       "      <td>1</td>\n",
       "    </tr>\n",
       "    <tr>\n",
       "      <th>4</th>\n",
       "      <td>Johnson</td>\n",
       "      <td>26</td>\n",
       "      <td>1</td>\n",
       "    </tr>\n",
       "  </tbody>\n",
       "</table>\n",
       "</div>"
      ],
      "text/plain": [
       "  customer_name  offer_id  n\n",
       "0         Smith         2  1\n",
       "1         Smith        24  1\n",
       "2       Johnson        17  1\n",
       "3       Johnson        24  1\n",
       "4       Johnson        26  1"
      ]
     },
     "execution_count": 3,
     "metadata": {},
     "output_type": "execute_result"
    }
   ],
   "source": [
    "df_transactions = pd.read_excel(\"./WineKMC.xlsx\", sheetname=1)\n",
    "df_transactions.columns = [\"customer_name\", \"offer_id\"]\n",
    "df_transactions['n'] = 1\n",
    "df_transactions.head()"
   ]
  },
  {
   "cell_type": "markdown",
   "metadata": {},
   "source": [
    "## Data wrangling"
   ]
  },
  {
   "cell_type": "markdown",
   "metadata": {},
   "source": [
    "We're trying to learn more about how our customers behave, so we can use their behavior (whether or not they purchased something based on an offer) as a way to group similar minded customers together. We can then study those groups to look for patterns and trends which can help us formulate future offers.\n",
    "\n",
    "The first thing we need is a way to compare customers. To do this, we're going to create a matrix that contains each customer and a 0/1 indicator for whether or not they responded to a given offer. "
   ]
  },
  {
   "cell_type": "markdown",
   "metadata": {},
   "source": [
    "<div class=\"span5 alert alert-info\">\n",
    "<h3>Checkup Exercise Set I</h3>\n",
    "\n",
    "<p><b>Exercise:</b> Create a data frame where each row has the following columns (Use the pandas [`merge`](http://pandas.pydata.org/pandas-docs/stable/generated/pandas.DataFrame.merge.html) and [`pivot_table`](http://pandas.pydata.org/pandas-docs/stable/generated/pandas.pivot_table.html) functions for this purpose):\n",
    "<ul>\n",
    "<li> customer_name\n",
    "<li> One column for each offer, with a 1 if the customer responded to the offer\n",
    "</ul>\n",
    "<p>Make sure you also deal with any weird values such as `NaN`. Read the documentation to develop your solution.</p>\n",
    "</div>"
   ]
  },
  {
   "cell_type": "code",
   "execution_count": 10,
   "metadata": {
    "scrolled": true
   },
   "outputs": [
    {
     "data": {
      "text/html": [
       "<div>\n",
       "<style scoped>\n",
       "    .dataframe tbody tr th:only-of-type {\n",
       "        vertical-align: middle;\n",
       "    }\n",
       "\n",
       "    .dataframe tbody tr th {\n",
       "        vertical-align: top;\n",
       "    }\n",
       "\n",
       "    .dataframe thead th {\n",
       "        text-align: right;\n",
       "    }\n",
       "</style>\n",
       "<table border=\"1\" class=\"dataframe\">\n",
       "  <thead>\n",
       "    <tr style=\"text-align: right;\">\n",
       "      <th>offer_id</th>\n",
       "      <th>customer_name</th>\n",
       "      <th>1</th>\n",
       "      <th>2</th>\n",
       "      <th>3</th>\n",
       "      <th>4</th>\n",
       "      <th>5</th>\n",
       "      <th>6</th>\n",
       "      <th>7</th>\n",
       "      <th>8</th>\n",
       "      <th>9</th>\n",
       "      <th>...</th>\n",
       "      <th>23</th>\n",
       "      <th>24</th>\n",
       "      <th>25</th>\n",
       "      <th>26</th>\n",
       "      <th>27</th>\n",
       "      <th>28</th>\n",
       "      <th>29</th>\n",
       "      <th>30</th>\n",
       "      <th>31</th>\n",
       "      <th>32</th>\n",
       "    </tr>\n",
       "  </thead>\n",
       "  <tbody>\n",
       "    <tr>\n",
       "      <th>0</th>\n",
       "      <td>Adams</td>\n",
       "      <td>0.0</td>\n",
       "      <td>0.0</td>\n",
       "      <td>0.0</td>\n",
       "      <td>0.0</td>\n",
       "      <td>0.0</td>\n",
       "      <td>0.0</td>\n",
       "      <td>0.0</td>\n",
       "      <td>0.0</td>\n",
       "      <td>0.0</td>\n",
       "      <td>...</td>\n",
       "      <td>0.0</td>\n",
       "      <td>0.0</td>\n",
       "      <td>0.0</td>\n",
       "      <td>0.0</td>\n",
       "      <td>0.0</td>\n",
       "      <td>0.0</td>\n",
       "      <td>1.0</td>\n",
       "      <td>1.0</td>\n",
       "      <td>0.0</td>\n",
       "      <td>0.0</td>\n",
       "    </tr>\n",
       "    <tr>\n",
       "      <th>1</th>\n",
       "      <td>Allen</td>\n",
       "      <td>0.0</td>\n",
       "      <td>0.0</td>\n",
       "      <td>0.0</td>\n",
       "      <td>0.0</td>\n",
       "      <td>0.0</td>\n",
       "      <td>0.0</td>\n",
       "      <td>0.0</td>\n",
       "      <td>0.0</td>\n",
       "      <td>1.0</td>\n",
       "      <td>...</td>\n",
       "      <td>0.0</td>\n",
       "      <td>0.0</td>\n",
       "      <td>0.0</td>\n",
       "      <td>0.0</td>\n",
       "      <td>1.0</td>\n",
       "      <td>0.0</td>\n",
       "      <td>0.0</td>\n",
       "      <td>0.0</td>\n",
       "      <td>0.0</td>\n",
       "      <td>0.0</td>\n",
       "    </tr>\n",
       "    <tr>\n",
       "      <th>2</th>\n",
       "      <td>Anderson</td>\n",
       "      <td>0.0</td>\n",
       "      <td>0.0</td>\n",
       "      <td>0.0</td>\n",
       "      <td>0.0</td>\n",
       "      <td>0.0</td>\n",
       "      <td>0.0</td>\n",
       "      <td>0.0</td>\n",
       "      <td>0.0</td>\n",
       "      <td>0.0</td>\n",
       "      <td>...</td>\n",
       "      <td>0.0</td>\n",
       "      <td>1.0</td>\n",
       "      <td>0.0</td>\n",
       "      <td>1.0</td>\n",
       "      <td>0.0</td>\n",
       "      <td>0.0</td>\n",
       "      <td>0.0</td>\n",
       "      <td>0.0</td>\n",
       "      <td>0.0</td>\n",
       "      <td>0.0</td>\n",
       "    </tr>\n",
       "    <tr>\n",
       "      <th>3</th>\n",
       "      <td>Bailey</td>\n",
       "      <td>0.0</td>\n",
       "      <td>0.0</td>\n",
       "      <td>0.0</td>\n",
       "      <td>0.0</td>\n",
       "      <td>0.0</td>\n",
       "      <td>0.0</td>\n",
       "      <td>1.0</td>\n",
       "      <td>0.0</td>\n",
       "      <td>0.0</td>\n",
       "      <td>...</td>\n",
       "      <td>0.0</td>\n",
       "      <td>0.0</td>\n",
       "      <td>0.0</td>\n",
       "      <td>0.0</td>\n",
       "      <td>0.0</td>\n",
       "      <td>0.0</td>\n",
       "      <td>0.0</td>\n",
       "      <td>1.0</td>\n",
       "      <td>0.0</td>\n",
       "      <td>0.0</td>\n",
       "    </tr>\n",
       "    <tr>\n",
       "      <th>4</th>\n",
       "      <td>Baker</td>\n",
       "      <td>0.0</td>\n",
       "      <td>0.0</td>\n",
       "      <td>0.0</td>\n",
       "      <td>0.0</td>\n",
       "      <td>0.0</td>\n",
       "      <td>0.0</td>\n",
       "      <td>1.0</td>\n",
       "      <td>0.0</td>\n",
       "      <td>0.0</td>\n",
       "      <td>...</td>\n",
       "      <td>0.0</td>\n",
       "      <td>0.0</td>\n",
       "      <td>0.0</td>\n",
       "      <td>0.0</td>\n",
       "      <td>0.0</td>\n",
       "      <td>0.0</td>\n",
       "      <td>0.0</td>\n",
       "      <td>0.0</td>\n",
       "      <td>1.0</td>\n",
       "      <td>0.0</td>\n",
       "    </tr>\n",
       "  </tbody>\n",
       "</table>\n",
       "<p>5 rows × 33 columns</p>\n",
       "</div>"
      ],
      "text/plain": [
       "offer_id customer_name    1    2    3    4    5    6    7    8    9 ...    23  \\\n",
       "0                Adams  0.0  0.0  0.0  0.0  0.0  0.0  0.0  0.0  0.0 ...   0.0   \n",
       "1                Allen  0.0  0.0  0.0  0.0  0.0  0.0  0.0  0.0  1.0 ...   0.0   \n",
       "2             Anderson  0.0  0.0  0.0  0.0  0.0  0.0  0.0  0.0  0.0 ...   0.0   \n",
       "3               Bailey  0.0  0.0  0.0  0.0  0.0  0.0  1.0  0.0  0.0 ...   0.0   \n",
       "4                Baker  0.0  0.0  0.0  0.0  0.0  0.0  1.0  0.0  0.0 ...   0.0   \n",
       "\n",
       "offer_id   24   25   26   27   28   29   30   31   32  \n",
       "0         0.0  0.0  0.0  0.0  0.0  1.0  1.0  0.0  0.0  \n",
       "1         0.0  0.0  0.0  1.0  0.0  0.0  0.0  0.0  0.0  \n",
       "2         1.0  0.0  1.0  0.0  0.0  0.0  0.0  0.0  0.0  \n",
       "3         0.0  0.0  0.0  0.0  0.0  0.0  1.0  0.0  0.0  \n",
       "4         0.0  0.0  0.0  0.0  0.0  0.0  0.0  1.0  0.0  \n",
       "\n",
       "[5 rows x 33 columns]"
      ]
     },
     "execution_count": 10,
     "metadata": {},
     "output_type": "execute_result"
    }
   ],
   "source": [
    "#your turn\n",
    "df_merge = df_transactions.merge(df_offers, left_on='offer_id', right_on='offer_id', how='left')\n",
    "df_merge.head()\n",
    "customers = pd.pivot_table(df_merge, values='n', index='customer_name', columns='offer_id')\n",
    "customers = customers.fillna(0).reset_index()\n",
    "customers.head()"
   ]
  },
  {
   "cell_type": "markdown",
   "metadata": {},
   "source": [
    "## K-Means Clustering\n",
    "\n",
    "Recall that in K-Means Clustering we want to *maximize* the distance between centroids and *minimize* the distance between data points and the respective centroid for the cluster they are in. True evaluation for unsupervised learning would require labeled data; however, we can use a variety of intuitive metrics to try to pick the number of clusters K. We will introduce two methods: the Elbow method, the Silhouette method and the gap statistic."
   ]
  },
  {
   "cell_type": "markdown",
   "metadata": {},
   "source": [
    "### Choosing K: The Elbow Sum-of-Squares Method\n",
    "\n",
    "The first method looks at the sum-of-squares error in each cluster against $K$. We compute the distance from each data point to the center of the cluster (centroid) to which the data point was assigned. \n",
    "\n",
    "$$SS = \\sum_k \\sum_{x_i \\in C_k} \\sum_{x_j \\in C_k} \\left( x_i - x_j \\right)^2 = \\sum_k \\sum_{x_i \\in C_k} \\left( x_i - \\mu_k \\right)^2$$\n",
    "\n",
    "where $x_i$ is a point, $C_k$ represents cluster $k$ and $\\mu_k$ is the centroid for cluster $k$. We can plot SS vs. $K$ and choose the *elbow point* in the plot as the best value for $K$. The elbow point is the point at which the plot starts descending much more slowly. "
   ]
  },
  {
   "cell_type": "markdown",
   "metadata": {},
   "source": [
    "<div class=\"span5 alert alert-info\">\n",
    "<h3>Checkup Exercise Set II</h3>\n",
    "\n",
    "<p><b>Exercise:</b></p> \n",
    "<ul>\n",
    "<li> What values of $SS$ do you believe represent better clusterings? Why?\n",
    "<li> Create a numpy matrix `x_cols` with only the columns representing the offers (i.e. the 0/1 colums) \n",
    "<li> Write code that applies the [`KMeans`](http://scikit-learn.org/stable/modules/generated/sklearn.cluster.KMeans.html) clustering method from scikit-learn to this matrix. \n",
    "<li> Construct a plot showing $SS$ for each $K$ and pick $K$ using this plot. For simplicity, test $2 \\le K \\le 10$.\n",
    "<li> Make a bar chart showing the number of points in each cluster for k-means under the best $K$.\n",
    "<li> What challenges did you experience using the Elbow method to pick $K$?\n",
    "</ul>\n",
    "</div>"
   ]
  },
  {
   "cell_type": "code",
   "execution_count": 12,
   "metadata": {},
   "outputs": [
    {
     "data": {
      "image/png": "[encoded data removed]",
      "text/plain": [
       "<Figure size 432x288 with 1 Axes>"
      ]
     },
     "metadata": {
      "needs_background": "light"
     },
     "output_type": "display_data"
    }
   ],
   "source": [
    "# your turn\n",
    "import numpy as np\n",
    "from sklearn.cluster import KMeans\n",
    "\n",
    "x_cols = customers.drop(['customer_name'],axis=1)\n",
    "ss=[]\n",
    "for k in range(1,11):\n",
    "    kmeans = KMeans(n_clusters=k, random_state=0).fit(x_cols)\n",
    "    ss.append(kmeans.inertia_)\n",
    "    \n",
    "plt.plot(range(1,11),ss)\n",
    "plt.xlabel('Number of Clusters (K)')\n",
    "plt.ylabel('Sum of Squared Distances')\n",
    "plt.title('K-Means Clustering: SS versus K')\n",
    "plt.show()"
   ]
  },
  {
   "cell_type": "markdown",
   "metadata": {},
   "source": [
    "The best cluster number seems to be 4 based on the plot."
   ]
  },
  {
   "cell_type": "code",
   "execution_count": 21,
   "metadata": {},
   "outputs": [
    {
     "data": {
      "image/png": "[encoded data removed]",
      "text/plain": [
       "<Figure size 432x288 with 1 Axes>"
      ]
     },
     "metadata": {
      "needs_background": "light"
     },
     "output_type": "display_data"
    }
   ],
   "source": [
    "customers['cluster']=KMeans(n_clusters=4,random_state=0).fit_predict(x_cols)\n",
    "## customers.cluster.value_counts().sort_index().plot(kind='bar', color='m')\n",
    "\n",
    "\n",
    "\n",
    "unique, counts = np.unique(customers.cluster, return_counts=True)\n",
    "plt.bar(unique, counts, align = 'center', width=0.4)\n",
    "plt.xticks([0,1,2,3])\n",
    "plt.xlabel('Cluster Label')\n",
    "plt.ylabel('Number of Data Points')\n",
    "plt.title('K-Means Clustering: Cluster Sizes')\n",
    "plt.show()"
   ]
  },
  {
   "cell_type": "markdown",
   "metadata": {},
   "source": [
    "There is no apparent elbow point for this dataset, and it was visually difficult to pick the number of cluster."
   ]
  },
  {
   "cell_type": "markdown",
   "metadata": {},
   "source": [
    "### Choosing K: The Silhouette Method\n",
    "\n",
    "There exists another method that measures how well each datapoint $x_i$ \"fits\" its assigned cluster *and also* how poorly it fits into other clusters. This is a different way of looking at the same objective. Denote $a_{x_i}$ as the *average* distance from $x_i$ to all other points within its own cluster $k$. The lower the value, the better. On the other hand $b_{x_i}$ is the minimum average distance from $x_i$ to points in a different cluster, minimized over clusters. That is, compute separately for each cluster the average distance from $x_i$ to the points within that cluster, and then take the minimum. The silhouette $s(x_i)$ is defined as\n",
    "\n",
    "$$s(x_i) = \\frac{b_{x_i} - a_{x_i}}{\\max{\\left( a_{x_i}, b_{x_i}\\right)}}$$\n",
    "\n",
    "The silhouette score is computed on *every datapoint in every cluster*. The silhouette score ranges from -1 (a poor clustering) to +1 (a very dense clustering) with 0 denoting the situation where clusters overlap. Some criteria for the silhouette coefficient is provided in the table below."
   ]
  },
  {
   "cell_type": "markdown",
   "metadata": {},
   "source": [
    "<pre>\n",
    "\n",
    "| Range       | Interpretation                                |\n",
    "|-------------|-----------------------------------------------|\n",
    "| 0.71 - 1.0  | A strong structure has been found.            |\n",
    "| 0.51 - 0.7  | A reasonable structure has been found.        |\n",
    "| 0.26 - 0.5  | The structure is weak and could be artificial.|\n",
    "| < 0.25      | No substantial structure has been found.      |\n",
    "\n",
    "</pre>\n",
    "Source: http://www.stat.berkeley.edu/~spector/s133/Clus.html"
   ]
  },
  {
   "cell_type": "markdown",
   "metadata": {},
   "source": [
    "Fortunately, scikit-learn provides a function to compute this for us (phew!) called [`sklearn.metrics.silhouette_score`](http://scikit-learn.org/stable/modules/generated/sklearn.metrics.silhouette_score.html). Take a look at [this article](http://scikit-learn.org/stable/auto_examples/cluster/plot_kmeans_silhouette_analysis.html) on picking $K$ in scikit-learn, as it will help you in the next exercise set."
   ]
  },
  {
   "cell_type": "markdown",
   "metadata": {},
   "source": [
    "<div class=\"span5 alert alert-info\">\n",
    "<h3>Checkup Exercise Set III</h3>\n",
    "\n",
    "<p><b>Exercise:</b> Using the documentation for the `silhouette_score` function above, construct a series of silhouette plots like the ones in the article linked above.</p>\n",
    "\n",
    "<p><b>Exercise:</b> Compute the average silhouette score for each $K$ and plot it. What $K$ does the plot suggest we should choose? Does it differ from what we found using the Elbow method?</p>\n",
    "</div>"
   ]
  },
  {
   "cell_type": "code",
   "execution_count": 36,
   "metadata": {},
   "outputs": [
    {
     "name": "stdout",
     "output_type": "stream",
     "text": [
      "[0.09174871508750351, 0.11889942863638556, 0.12167039851355937, 0.13528618244904822, 0.13218209978013543, 0.13365227784322317, 0.12482407120722075, 0.11686562917000483, 0.10889477148379977]\n"
     ]
    },
    {
     "data": {
      "image/png": "[encoded data removed]",
      "text/plain": [
       "<Figure size 432x288 with 1 Axes>"
      ]
     },
     "metadata": {
      "needs_background": "light"
     },
     "output_type": "display_data"
    }
   ],
   "source": [
    "# Your turn.\n",
    "from sklearn.metrics import silhouette_samples, silhouette_score\n",
    "ys=[]\n",
    "K=list(range(2,11))\n",
    "\n",
    "for i in K:\n",
    "    kmeans=KMeans(n_clusters=i, random_state=1)\n",
    "    kmeans.fit(x_cols)\n",
    "    labels=kmeans.labels_\n",
    "    ys.append(silhouette_score(x_cols, labels))\n",
    "    \n",
    "plt.plot(K ,ys, color='m')\n",
    "plt.xlabel('K')\n",
    "plt.ylabel('silhouette_score')\n",
    "## best K=5\n",
    "print(ys)"
   ]
  },
  {
   "cell_type": "markdown",
   "metadata": {},
   "source": [
    "### Answer:\n",
    "The average silhouette score is less than 0.14 regardless of the number of clusters, suggesting that there is no clear structure or pattern in the data. "
   ]
  },
  {
   "cell_type": "markdown",
   "metadata": {},
   "source": [
    "### Choosing $K$: The Gap Statistic\n",
    "\n",
    "There is one last method worth covering for picking $K$, the so-called Gap statistic. The computation for the gap statistic builds on the sum-of-squares established in the Elbow method discussion, and compares it to the sum-of-squares of a \"null distribution,\" that is, a random set of points with no clustering. The estimate for the optimal number of clusters $K$ is the value for which $\\log{SS}$ falls the farthest below that of the reference distribution:\n",
    "\n",
    "$$G_k = E_n^*\\{\\log SS_k\\} - \\log SS_k$$\n",
    "\n",
    "In other words a good clustering yields a much larger difference between the reference distribution and the clustered data. The reference distribution is a Monte Carlo (randomization) procedure that constructs $B$ random distributions of points within the bounding box (limits) of the original data and then applies K-means to this synthetic distribution of data points.. $E_n^*\\{\\log SS_k\\}$ is just the average $SS_k$ over all $B$ replicates. We then compute the standard deviation $\\sigma_{SS}$ of the values of $SS_k$ computed from the $B$ replicates of the reference distribution and compute\n",
    "\n",
    "$$s_k = \\sqrt{1+1/B}\\sigma_{SS}$$\n",
    "\n",
    "Finally, we choose $K=k$ such that $G_k \\geq G_{k+1} - s_{k+1}$."
   ]
  },
  {
   "cell_type": "markdown",
   "metadata": {},
   "source": [
    "### Aside: Choosing $K$ when we Have Labels\n",
    "\n",
    "Unsupervised learning expects that we do not have the labels. In some situations, we may wish to cluster data that is labeled. Computing the optimal number of clusters is much easier if we have access to labels. There are several methods available. We will not go into the math or details since it is rare to have access to the labels, but we provide the names and references of these measures.\n",
    "\n",
    "* Adjusted Rand Index\n",
    "* Mutual Information\n",
    "* V-Measure\n",
    "* Fowlkes–Mallows index\n",
    "\n",
    "See [this article](http://scikit-learn.org/stable/modules/clustering.html) for more information about these metrics."
   ]
  },
  {
   "cell_type": "markdown",
   "metadata": {},
   "source": [
    "## Visualizing Clusters using PCA\n",
    "\n",
    "How do we visualize clusters? If we only had two features, we could likely plot the data as is. But we have 100 data points each containing 32 features (dimensions). Principal Component Analysis (PCA) will help us reduce the dimensionality of our data from 32 to something lower. For a visualization on the coordinate plane, we will use 2 dimensions. In this exercise, we're going to use it to transform our multi-dimensional dataset into a 2 dimensional dataset.\n",
    "\n",
    "This is only one use of PCA for dimension reduction. We can also use PCA when we want to perform regression but we have a set of highly correlated variables. PCA untangles these correlations into a smaller number of features/predictors all of which are orthogonal (not correlated). PCA is also used to reduce a large set of variables into a much smaller one."
   ]
  },
  {
   "cell_type": "markdown",
   "metadata": {},
   "source": [
    "<div class=\"span5 alert alert-info\">\n",
    "<h3>Checkup Exercise Set IV</h3>\n",
    "\n",
    "<p><b>Exercise:</b> Use PCA to plot your clusters:</p>\n",
    "\n",
    "<ul>\n",
    "<li> Use scikit-learn's [`PCA`](http://scikit-learn.org/stable/modules/generated/sklearn.decomposition.PCA.html) function to reduce the dimensionality of your clustering data to 2 components\n",
    "<li> Create a data frame with the following fields:\n",
    "  <ul>\n",
    "  <li> customer name\n",
    "  <li> cluster id the customer belongs to\n",
    "  <li> the two PCA components (label them `x` and `y`)\n",
    "  </ul>\n",
    "<li> Plot a scatterplot of the `x` vs `y` columns\n",
    "<li> Color-code points differently based on cluster ID\n",
    "<li> How do the clusters look? \n",
    "<li> Based on what you see, what seems to be the best value for $K$? Moreover, which method of choosing $K$ seems to have produced the optimal result visually?\n",
    "</ul>\n",
    "\n",
    "<p><b>Exercise:</b> Now look at both the original raw data about the offers and transactions and look at the fitted clusters. Tell a story about the clusters in context of the original data. For example, do the clusters correspond to wine variants or something else interesting?</p>\n",
    "</div>"
   ]
  },
  {
   "cell_type": "code",
   "execution_count": 52,
   "metadata": {},
   "outputs": [
    {
     "data": {
      "image/png": "[encoded data removed]",
      "text/plain": [
       "<Figure size 432x288 with 1 Axes>"
      ]
     },
     "metadata": {
      "needs_background": "light"
     },
     "output_type": "display_data"
    }
   ],
   "source": [
    "#your turn\n",
    "from sklearn.decomposition import PCA\n",
    "pca = PCA(n_components=2, random_state=0)\n",
    "customers['x'] = pca.fit_transform(x_cols)[:,0]\n",
    "customers['y'] = pca.fit_transform(x_cols)[:,1]\n",
    "\n",
    "\n",
    "plt.scatter(customers.x, customers.y, marker='o', c=customers.cluster, cmap='Set1', alpha=0.5)\n",
    "plt.title(\"The visualization of the clustered data\")\n",
    "plt.xlabel(\"Feature space for the 1st feature\")\n",
    "plt.ylabel(\"Feature space for the 2nd feature\")\n",
    "plt.show()\n"
   ]
  },
  {
   "cell_type": "markdown",
   "metadata": {},
   "source": [
    "There are some overlapping between red and grey clusters, it seems that 3 clusters may be sufficient, but 4 clusters also work."
   ]
  },
  {
   "cell_type": "markdown",
   "metadata": {},
   "source": [
    "What we've done is we've taken those columns of 0/1 indicator variables, and we've transformed them into a 2-D dataset. We took one column and arbitrarily called it `x` and then called the other `y`. Now we can throw each point into a scatterplot. We color coded each point based on it's cluster so it's easier to see them."
   ]
  },
  {
   "cell_type": "markdown",
   "metadata": {},
   "source": [
    "<div class=\"span5 alert alert-info\">\n",
    "<h3>Exercise Set V</h3>\n",
    "\n",
    "<p>As we saw earlier, PCA has a lot of other uses. Since we wanted to visualize our data in 2 dimensions, restricted the number of dimensions to 2 in PCA. But what is the true optimal number of dimensions?</p>\n",
    "\n",
    "<p><b>Exercise:</b> Using a new PCA object shown in the next cell, plot the `explained_variance_` field and look for the elbow point, the point where the curve's rate of descent seems to slow sharply. This value is one possible value for the optimal number of dimensions. What is it?</p>\n",
    "</div>"
   ]
  },
  {
   "cell_type": "code",
   "execution_count": 61,
   "metadata": {},
   "outputs": [
    {
     "data": {
      "image/png": "[encoded data removed]",
      "text/plain": [
       "<Figure size 432x288 with 1 Axes>"
      ]
     },
     "metadata": {
      "needs_background": "light"
     },
     "output_type": "display_data"
    }
   ],
   "source": [
    "#your turn\n",
    "# Initialize a new PCA model with a default number of components.\n",
    "import sklearn.decomposition\n",
    "pca = sklearn.decomposition.PCA()\n",
    "pca.fit(x_cols)\n",
    "\n",
    "# Initialize a new PCA model with a default number of components.\n",
    "\n",
    "features = range(pca.n_components_)\n",
    "plt.bar(features,pca.explained_variance_)\n",
    "plt.xticks(np.arange(0, 31, step=5))\n",
    "plt.show()\n"
   ]
  },
  {
   "cell_type": "markdown",
   "metadata": {},
   "source": [
    "It looks like from the above plot that cluster number of 3 is the best."
   ]
  },
  {
   "cell_type": "markdown",
   "metadata": {},
   "source": [
    "## Other Clustering Algorithms\n",
    "\n",
    "k-means is only one of a ton of clustering algorithms. Below is a brief description of several clustering algorithms, and the table provides references to the other clustering algorithms in scikit-learn. \n",
    "\n",
    "* **Affinity Propagation** does not require the number of clusters $K$ to be known in advance! AP uses a \"message passing\" paradigm to cluster points based on their similarity. \n",
    "\n",
    "* **Spectral Clustering** uses the eigenvalues of a similarity matrix to reduce the dimensionality of the data before clustering in a lower dimensional space. This is tangentially similar to what we did to visualize k-means clusters using PCA. The number of clusters must be known a priori.\n",
    "\n",
    "* **Ward's Method** applies to hierarchical clustering. Hierarchical clustering algorithms take a set of data and successively divide the observations into more and more clusters at each layer of the hierarchy. Ward's method is used to determine when two clusters in the hierarchy should be combined into one. It is basically an extension of hierarchical clustering. Hierarchical clustering is *divisive*, that is, all observations are part of the same cluster at first, and at each successive iteration, the clusters are made smaller and smaller. With hierarchical clustering, a hierarchy is constructed, and there is not really the concept of \"number of clusters.\" The number of clusters simply determines how low or how high in the hierarchy we reference and can be determined empirically or by looking at the [dendogram](https://docs.scipy.org/doc/scipy-0.18.1/reference/generated/scipy.cluster.hierarchy.dendrogram.html).\n",
    "\n",
    "* **Agglomerative Clustering** is similar to hierarchical clustering but but is not divisive, it is *agglomerative*. That is, every observation is placed into its own cluster and at each iteration or level or the hierarchy, observations are merged into fewer and fewer clusters until convergence. Similar to hierarchical clustering, the constructed hierarchy contains all possible numbers of clusters and it is up to the analyst to pick the number by reviewing statistics or the dendogram.\n",
    "\n",
    "* **DBSCAN** is based on point density rather than distance. It groups together points with many nearby neighbors. DBSCAN is one of the most cited algorithms in the literature. It does not require knowing the number of clusters a priori, but does require specifying the neighborhood size."
   ]
  },
  {
   "cell_type": "markdown",
   "metadata": {},
   "source": [
    "### Clustering Algorithms in Scikit-learn\n",
    "<table border=\"1\">\n",
    "<colgroup>\n",
    "<col width=\"15%\" />\n",
    "<col width=\"16%\" />\n",
    "<col width=\"20%\" />\n",
    "<col width=\"27%\" />\n",
    "<col width=\"22%\" />\n",
    "</colgroup>\n",
    "<thead valign=\"bottom\">\n",
    "<tr><th>Method name</th>\n",
    "<th>Parameters</th>\n",
    "<th>Scalability</th>\n",
    "<th>Use Case</th>\n",
    "<th>Geometry (metric used)</th>\n",
    "</tr>\n",
    "</thead>\n",
    "<tbody valign=\"top\">\n",
    "<tr><td>K-Means</span></a></td>\n",
    "<td>number of clusters</td>\n",
    "<td>Very large<span class=\"pre\">n_samples</span>, medium <span class=\"pre\">n_clusters</span> with\n",
    "MiniBatch code</td>\n",
    "<td>General-purpose, even cluster size, flat geometry, not too many clusters</td>\n",
    "<td>Distances between points</td>\n",
    "</tr>\n",
    "<tr><td>Affinity propagation</td>\n",
    "<td>damping, sample preference</td>\n",
    "<td>Not scalable with n_samples</td>\n",
    "<td>Many clusters, uneven cluster size, non-flat geometry</td>\n",
    "<td>Graph distance (e.g. nearest-neighbor graph)</td>\n",
    "</tr>\n",
    "<tr><td>Mean-shift</td>\n",
    "<td>bandwidth</td>\n",
    "<td>Not scalable with <span class=\"pre\">n_samples</span></td>\n",
    "<td>Many clusters, uneven cluster size, non-flat geometry</td>\n",
    "<td>Distances between points</td>\n",
    "</tr>\n",
    "<tr><td>Spectral clustering</td>\n",
    "<td>number of clusters</td>\n",
    "<td>Medium <span class=\"pre\">n_samples</span>, small <span class=\"pre\">n_clusters</span></td>\n",
    "<td>Few clusters, even cluster size, non-flat geometry</td>\n",
    "<td>Graph distance (e.g. nearest-neighbor graph)</td>\n",
    "</tr>\n",
    "<tr><td>Ward hierarchical clustering</td>\n",
    "<td>number of clusters</td>\n",
    "<td>Large <span class=\"pre\">n_samples</span> and <span class=\"pre\">n_clusters</span></td>\n",
    "<td>Many clusters, possibly connectivity constraints</td>\n",
    "<td>Distances between points</td>\n",
    "</tr>\n",
    "<tr><td>Agglomerative clustering</td>\n",
    "<td>number of clusters, linkage type, distance</td>\n",
    "<td>Large <span class=\"pre\">n_samples</span> and <span class=\"pre\">n_clusters</span></td>\n",
    "<td>Many clusters, possibly connectivity constraints, non Euclidean\n",
    "distances</td>\n",
    "<td>Any pairwise distance</td>\n",
    "</tr>\n",
    "<tr><td>DBSCAN</td>\n",
    "<td>neighborhood size</td>\n",
    "<td>Very large <span class=\"pre\">n_samples</span>, medium <span class=\"pre\">n_clusters</span></td>\n",
    "<td>Non-flat geometry, uneven cluster sizes</td>\n",
    "<td>Distances between nearest points</td>\n",
    "</tr>\n",
    "<tr><td>Gaussian mixtures</td>\n",
    "<td>many</td>\n",
    "<td>Not scalable</td>\n",
    "<td>Flat geometry, good for density estimation</td>\n",
    "<td>Mahalanobis distances to  centers</td>\n",
    "</tr>\n",
    "<tr><td>Birch</td>\n",
    "<td>branching factor, threshold, optional global clusterer.</td>\n",
    "<td>Large <span class=\"pre\">n_clusters</span> and <span class=\"pre\">n_samples</span></td>\n",
    "<td>Large dataset, outlier removal, data reduction.</td>\n",
    "<td>Euclidean distance between points</td>\n",
    "</tr>\n",
    "</tbody>\n",
    "</table>\n",
    "Source: http://scikit-learn.org/stable/modules/clustering.html"
   ]
  },
  {
   "cell_type": "markdown",
   "metadata": {},
   "source": [
    "<div class=\"span5 alert alert-info\">\n",
    "<h3>Exercise Set VI</h3>\n",
    "\n",
    "<p><b>Exercise:</b> Try clustering using the following algorithms. </p>\n",
    "<ol>\n",
    "<li>Affinity propagation\n",
    "<li>Spectral clustering\n",
    "<li>Agglomerative clustering\n",
    "<li>DBSCAN\n",
    "</ol>\n",
    "<p>How do their results compare? Which performs the best? Tell a story why you think it performs the best.</p>\n",
    "</div>\n"
   ]
  },
  {
   "cell_type": "code",
   "execution_count": 65,
   "metadata": {},
   "outputs": [
    {
     "name": "stdout",
     "output_type": "stream",
     "text": [
      "Number of clusters 14\n",
      "Silhouette Coefficient: 0.123\n"
     ]
    }
   ],
   "source": [
    "\n",
    "#1. Affinity propagation\n",
    "\n",
    "from sklearn.cluster import AffinityPropagation\n",
    "\n",
    "#apply AffinityPropagation\n",
    "af = AffinityPropagation().fit(x_cols)\n",
    "cluster_centers_indices = af.cluster_centers_indices_\n",
    "labels = af.labels_\n",
    "n_clusters_ = len(cluster_centers_indices)\n",
    "print ('Number of clusters',len(cluster_centers_indices))\n",
    "\n",
    "print(\"Silhouette Coefficient: %0.3f\" % silhouette_score(x_cols, labels))"
   ]
  },
  {
   "cell_type": "code",
   "execution_count": 86,
   "metadata": {},
   "outputs": [
    {
     "data": {
      "text/plain": [
       "{2: 0.07888836713242905,\n",
       " 3: 0.10372550171102654,\n",
       " 4: 0.0767473966803758,\n",
       " 5: 0.08766308417463599,\n",
       " 6: 0.07234569537759994,\n",
       " 7: 0.07395129406534626,\n",
       " 8: 0.07379185389792109,\n",
       " 9: 0.08164291130985514,\n",
       " 10: 0.08069870868311994}"
      ]
     },
     "execution_count": 86,
     "metadata": {},
     "output_type": "execute_result"
    }
   ],
   "source": [
    "#2. Spectral clustering\n",
    "\n",
    "from sklearn.cluster import SpectralClustering\n",
    "K=list(range(2,11))\n",
    "ys={}\n",
    "for i in K:\n",
    "    spec = SpectralClustering(n_clusters=i, assign_labels='discretize', random_state=0)\n",
    "    spec_labels = spec.fit_predict(x_cols)\n",
    "    ys[i]=(silhouette_score(x_cols, spec_labels))\n",
    "ys"
   ]
  },
  {
   "cell_type": "code",
   "execution_count": 93,
   "metadata": {},
   "outputs": [
    {
     "data": {
      "text/plain": [
       "{2: 0.08258017823184984,\n",
       " 3: 0.11625878863607858,\n",
       " 4: 0.128937578158815,\n",
       " 5: 0.14089739970831974,\n",
       " 6: 0.1471521720461323,\n",
       " 7: 0.15275152751051155,\n",
       " 8: 0.15578053718604024,\n",
       " 9: 0.12075124131971901,\n",
       " 10: 0.09754750747147792}"
      ]
     },
     "execution_count": 93,
     "metadata": {},
     "output_type": "execute_result"
    }
   ],
   "source": [
    "# 3. Agglomerative clustering\n",
    "\n",
    "from sklearn.cluster import AgglomerativeClustering\n",
    "aggscore={}\n",
    "for i in K:\n",
    "    agg= AgglomerativeClustering(n_clusters=i, linkage='ward')\n",
    "    agg_labels = agg.fit_predict(x_cols)\n",
    "    aggscore[i]=(silhouette_score(x_cols, agg_labels))\n",
    "aggscore"
   ]
  },
  {
   "cell_type": "code",
   "execution_count": 102,
   "metadata": {},
   "outputs": [
    {
     "name": "stdout",
     "output_type": "stream",
     "text": [
      "Number of clusters 5\n",
      "Silhouette Coefficient: 0.038\n"
     ]
    }
   ],
   "source": [
    "# 4. DBSCAN\n",
    "\n",
    "from sklearn.cluster import DBSCAN\n",
    "dbscan = DBSCAN(min_samples=3,eps=1)\n",
    "dbscan_labels = dbscan.fit_predict(x_cols)\n",
    "np.unique(dbscan_labels)\n",
    "\n",
    "print ('Number of clusters',len(np.unique(dbscan_labels)))\n",
    "print(\"Silhouette Coefficient: %0.3f\" % silhouette_score(x_cols, dbscan_labels))\n"
   ]
  },
  {
   "cell_type": "code",
   "execution_count": null,
   "metadata": {},
   "outputs": [],
   "source": []
  }
 ],
 "metadata": {
  "anaconda-cloud": {},
  "kernelspec": {
   "display_name": "Python 3",
   "language": "python",
   "name": "python3"
  },
  "language_info": {
   "codemirror_mode": {
    "name": "ipython",
    "version": 3
   },
   "file_extension": ".py",
   "mimetype": "text/x-python",
   "name": "python",
   "nbconvert_exporter": "python",
   "pygments_lexer": "ipython3",
   "version": "3.7.0"
  }
 },
 "nbformat": 4,
 "nbformat_minor": 1
}
